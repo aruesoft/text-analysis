{
 "cells": [
  {
   "cell_type": "markdown",
   "metadata": {},
   "source": [
    "# 영화 리뷰 데이터 웹 크롤링\n",
    "\n",
    "\n",
    "### (Web Crawling for Movie Reviews) \n",
    "\n",
    "1. 페이지의 리뷰 모두 저장하기\n",
    "2. 여러 페이지의 리뷰 저장하기\n",
    "3. 영화의 전체 리뷰 모두 저장하기"
   ]
  },
  {
   "cell_type": "code",
   "execution_count": 1,
   "metadata": {
    "collapsed": true
   },
   "outputs": [],
   "source": [
    "# 웹 크롤링에 필요한 모듈 불러오기\n",
    "\n",
    "from urllib.request import urlopen\n",
    "from bs4 import BeautifulSoup"
   ]
  },
  {
   "cell_type": "markdown",
   "metadata": {},
   "source": [
    "## 1. 페이지의 리뷰  모두 저장하기"
   ]
  },
  {
   "cell_type": "code",
   "execution_count": 2,
   "metadata": {
    "collapsed": true
   },
   "outputs": [],
   "source": [
    "# urlopen()을 활용해 웹 상의 데이터 받아오기\n",
    "\n",
    "url = 'http://movie.daum.net/moviedb/grade?movieId=109512&type=netizen&page=1'\n",
    "webpage = urlopen(url)"
   ]
  },
  {
   "cell_type": "code",
   "execution_count": 3,
   "metadata": {},
   "outputs": [
    {
     "name": "stdout",
     "output_type": "stream",
     "text": [
      "조선족범죄자들 일망타진실화 살벌.잔인하고 유쾌하지않지만 통쾌했다\n",
      "마블리는 38사기동대와 비슷한 연기와 가오란 가오는 엄청 잡는 형사.\n",
      "윤계상은 착하게 생겨서 악역이 어울리지 않는 느낌..\n",
      "웃음포인트가 뻔한 그냥 조폭영화고 좀 잔인한 장면은 눈 감고 봄\n",
      "하얼빈 삼총사에게 박수를!!\n",
      "하도 알바들 설쳐대서 안볼까하다가 오늘 봤다. 조연들이 살린 영화. 윤계상은 악역 안어울려. 마동석은 덩치값만 하네요.\n",
      "연기가 조금 부자연스런점 빼고는 나름 괜찮은영화\n",
      "윤계상.. 아무리봐도 \" 나 연기 하고 있어~~ \" 하던데.. \n",
      "나는 아무리 잘 줘도 7점이네.\n",
      "마동석ㅎㅎ 윤계상삼총사무서웠어요\n",
      "잔인하기도했지만재밌게봤어요\n",
      "\n",
      "청년경찰만큼재밌던영화다\n",
      "좀잔인해도가려서보면된다\n",
      "마동석 윤계상흥해라~♡\n",
      "흔한조폭영화\n"
     ]
    }
   ],
   "source": [
    "source = BeautifulSoup(webpage, 'html5lib')\n",
    "reviews = source.find_all('p', {'class':'desc_review'})\n",
    "for review in reviews:\n",
    "    print(review.get_text().strip())"
   ]
  },
  {
   "cell_type": "markdown",
   "metadata": {},
   "source": [
    "## 2. 여러 페이지의 리뷰 저장하기"
   ]
  },
  {
   "cell_type": "code",
   "execution_count": 4,
   "metadata": {
    "collapsed": true
   },
   "outputs": [],
   "source": [
    "#리뷰 내용을 담기 위한 리스트 생성\n",
    "review_list = []\n",
    "\n",
    "for n in range(5):\n",
    "    url = 'http://movie.daum.net/moviedb/grade?movieId=109512&type=netizen&page={}'.format(n+1)\n",
    "    webpage = urlopen(url) \n",
    "    source = BeautifulSoup(webpage, 'html5lib')\n",
    "    reviews = source.find_all('p', {'class':'desc_review'})\n",
    "    for review in reviews:\n",
    "        review_list.append(review.get_text().strip())"
   ]
  },
  {
   "cell_type": "code",
   "execution_count": 5,
   "metadata": {
    "collapsed": true
   },
   "outputs": [],
   "source": [
    "# data.txt 파일로 리뷰 내용 출력하기\n",
    "\n",
    "file = open('data.txt','w', encoding = 'utf-8')\n",
    "\n",
    "for review in review_list:\n",
    "    file.write(review + '\\n')\n",
    "\n",
    "file.close()"
   ]
  },
  {
   "cell_type": "markdown",
   "metadata": {},
   "source": [
    "## 3. 영화의 전체 리뷰 모두 저장하기"
   ]
  },
  {
   "cell_type": "code",
   "execution_count": 6,
   "metadata": {
    "collapsed": true
   },
   "outputs": [],
   "source": [
    "# 페이지 개수 계산하기\n",
    "url = 'http://movie.daum.net/moviedb/grade?movieId=109512&type=netizen&page=1'\n",
    "webpage = urlopen(url)\n",
    "source = BeautifulSoup(webpage, 'html5lib')\n",
    "review = source.find('span', {'class':'num_review'})"
   ]
  },
  {
   "cell_type": "code",
   "execution_count": 7,
   "metadata": {
    "collapsed": true
   },
   "outputs": [],
   "source": [
    "t = review.get_text().strip()\n",
    "t = t[:-1].replace(',','')\n",
    "page_no = int(int(t[10:])/10)\n",
    "\n",
    "# 위의 공식 상세 풀이.\n",
    "#t = review.get_text().strip()  # 공백을 지움.\n",
    "#t1 = t[:-1]                    # 맨 뒤 )를 지움\n",
    "#t2 = t1.replace(',','')        # 숫자에 있는 천 단위 , 를 지움\n",
    "#t3 = t2[10:]                   # 앞에를 다 지워서 숫자만 남김 > 문자형(str) 상태\n",
    "#t4 = int(t3)/10                # 한 페이지 당 리뷰가 10개씩 기록 되므로 10개를 나눔 \n",
    "#page_no = int(t4)              # 정수로 변환해 총 페이지 개수를 계산"
   ]
  },
  {
   "cell_type": "code",
   "execution_count": 8,
   "metadata": {
    "collapsed": true
   },
   "outputs": [],
   "source": [
    "review_list = []\n",
    "for n in range(page_no):\n",
    "    url = 'http://movie.daum.net/moviedb/grade?movieId=109512&type=netizen&page={}'.format(n+1)\n",
    "    webpage = urlopen(url)\n",
    "    source = BeautifulSoup(webpage, 'html5lib')\n",
    "    reviews = source.find_all('p', {'class':'desc_review'})\n",
    "    for review in reviews:\n",
    "        review_list.append(review.get_text().strip())"
   ]
  },
  {
   "cell_type": "code",
   "execution_count": 9,
   "metadata": {
    "collapsed": true
   },
   "outputs": [],
   "source": [
    "file = open('theoutlaws.txt', 'w', encoding='utf-8')\n",
    "for review in review_list:\n",
    "    file.write(review + '\\n')\n",
    "file.close()"
   ]
  },
  {
   "cell_type": "markdown",
   "metadata": {},
   "source": [
    "#  데이터 전처리 & 데이터 탐색\n",
    "\n",
    "-KoNLPy 이용하여 리뷰 데이터 분석하기, 자주 사용되는 단어 추출하기"
   ]
  },
  {
   "cell_type": "code",
   "execution_count": 10,
   "metadata": {
    "collapsed": true
   },
   "outputs": [],
   "source": [
    "# 크롤링한 영화 리뷰 데이터 불러오기\n",
    "f = open('theoutlaws.txt', encoding='utf-8')\n",
    "lines = f.readlines()\n",
    "f.close()"
   ]
  },
  {
   "cell_type": "code",
   "execution_count": 11,
   "metadata": {
    "collapsed": true
   },
   "outputs": [],
   "source": [
    "# 한국어 텍스트 분석에 필요한 트위터 형태소 분석기 불러오기(konlpy)\n",
    "from konlpy.tag import Twitter\n",
    "tw = Twitter()"
   ]
  },
  {
   "cell_type": "code",
   "execution_count": 12,
   "metadata": {
    "collapsed": true
   },
   "outputs": [],
   "source": [
    "# 전체 텍스트의 형태소를 분석\n",
    "sentences_tag = []\n",
    "for x in lines: \n",
    "    sentences_tag.append(tw.pos(x))"
   ]
  },
  {
   "cell_type": "code",
   "execution_count": 21,
   "metadata": {},
   "outputs": [
    {
     "name": "stdout",
     "output_type": "stream",
     "text": [
      "2652\n"
     ]
    }
   ],
   "source": [
    "# sentences_tag의 내용물을 출력\n",
    "# print(sentences_tag)\n",
    "print(len(sentences_tag))"
   ]
  },
  {
   "cell_type": "code",
   "execution_count": 14,
   "metadata": {
    "collapsed": true
   },
   "outputs": [],
   "source": [
    "# 리뷰를 분석하는데 있어 중요한 품사인 명사와 형용사만 추출\n",
    "        \n",
    "keywords = []                                 # 명사, 형용사만 담기 위한 리스트 생성\n",
    "for x in sentences_tag:                       # sentences_tag의 list에서 for문으로 하나씩 꺼냄\n",
    "    for word, tag in x:                       # 각 tuple의 (word, tag)를 for문으로 각각 꺼냄\n",
    "        if tag in ['Noun', 'Adjective']:      # tag가 Noun(명사) or Adjective(형용사)이면 keywords의 list에 append 함.\n",
    "            keywords.append(word)"
   ]
  },
  {
   "cell_type": "code",
   "execution_count": 15,
   "metadata": {},
   "outputs": [
    {
     "name": "stdout",
     "output_type": "stream",
     "text": [
      "[('영화', 633), ('마동석', 407), ('윤계상', 388), ('연기', 368), ('잔인', 187), ('좋', 182), ('너무', 160), ('배우', 159), ('최고', 132), ('시간', 122), ('액션', 116), ('진짜', 107), ('정말', 105), ('조연', 85), ('보고', 85), ('재미', 85), ('범죄', 75), ('통쾌', 68), ('장면', 67), ('그냥', 64)]\n"
     ]
    }
   ],
   "source": [
    "# 가장 많이 사용된 명사와 형용사 출력하기\n",
    "\n",
    "from collections import Counter            # collection 패키지에서 Counter(등장 횟수를 세주는 역할)를 불러옴\n",
    "counts = Counter(keywords)                 # keywords에서 서로 다른 명사와 형용사가 얼마나 많이 쓰였는지를 셈\n",
    "print(counts.most_common(20))              # 20개의 가장 많이 사용된 단어를 추출"
   ]
  },
  {
   "cell_type": "markdown",
   "metadata": {},
   "source": [
    "# 데이터 시각화(워드클라우드)"
   ]
  },
  {
   "cell_type": "code",
   "execution_count": 16,
   "metadata": {
    "collapsed": true
   },
   "outputs": [],
   "source": [
    "import pytagcloud, random, webbrowser       # pytagcloud 모듈 사용\n",
    "from konlpy.tag import Twitter              # 트위트 형태소 분석기 사용\n",
    "from collections import Counter             # collections 패키지에서 counter 불러옴."
   ]
  },
  {
   "cell_type": "code",
   "execution_count": 17,
   "metadata": {
    "collapsed": true
   },
   "outputs": [],
   "source": [
    "# 워드클라우드 생성에 필요한 함수 정의\n",
    "\n",
    "def get_tags(text, ntags = 100, multiplier = 1):\n",
    "    t = Twitter()\n",
    "    nouns = []\n",
    "    for s in text:\n",
    "        for noun in t.nouns(s):\n",
    "            if noun in ['영화']:\n",
    "                pass\n",
    "            else:\n",
    "                nouns.append(noun)\n",
    "    count = Counter(nouns)\n",
    "    return [{'color':color(), 'tag':n, 'size': c * multiplier} \\\n",
    "            for n, c in count.most_common(ntags)]"
   ]
  },
  {
   "cell_type": "code",
   "execution_count": 18,
   "metadata": {
    "collapsed": true
   },
   "outputs": [],
   "source": [
    "def draw_cloud(tags, filename, fontname = 'Noto Sans CJK', size = (1500, 800)):\n",
    "    pytagcloud.create_tag_image(tags, filename, fontname = fontname, size = size) \n",
    "    webbrowser.open(filename)"
   ]
  },
  {
   "cell_type": "code",
   "execution_count": 19,
   "metadata": {
    "collapsed": true
   },
   "outputs": [],
   "source": [
    "# 단어 구분을 위한 색 추출\n",
    "r = lambda: random.randint(0,255)   # 람다식을 통해 0부터 254 사이의 임의의 정수 추출\n",
    "color = lambda: (r(), r(), r())     # 람다식 3개를 합쳐 , RGB로 색을 정의"
   ]
  },
  {
   "cell_type": "code",
   "execution_count": 20,
   "metadata": {
    "collapsed": true
   },
   "outputs": [],
   "source": [
    "# 데이터를 불러와 워드클라우드 그리기\n",
    "f = open('theoutlaws.txt', encoding='utf-8')\n",
    "lines = f.readlines()\n",
    "f.close()\n",
    "\n",
    "tags = get_tags(lines)\n",
    "draw_cloud(tags, 'theoutlaws-wordcloud.png')"
   ]
  },
  {
   "cell_type": "code",
   "execution_count": null,
   "metadata": {
    "collapsed": true
   },
   "outputs": [],
   "source": []
  }
 ],
 "metadata": {
  "kernelspec": {
   "display_name": "Python 3",
   "language": "python",
   "name": "python3"
  },
  "language_info": {
   "codemirror_mode": {
    "name": "ipython",
    "version": 3
   },
   "file_extension": ".py",
   "mimetype": "text/x-python",
   "name": "python",
   "nbconvert_exporter": "python",
   "pygments_lexer": "ipython3",
   "version": "3.6.1"
  }
 },
 "nbformat": 4,
 "nbformat_minor": 2
}
